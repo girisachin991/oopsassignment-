{
 "cells": [
  {
   "cell_type": "code",
   "execution_count": 9,
   "id": "797b70b9-dc2d-4f9f-bd7e-23bc2189a129",
   "metadata": {},
   "outputs": [
    {
     "data": {
      "text/plain": [
       "'Major OOPS (object-oriented programming) concepts in Python include\\n  1. Class \\n  2. Object\\n  3. Method\\n  4. Inheritance\\n  5.Polymorphism\\n  6. Data Abstraction\\n  7. Encapsulation\\n  A class is a collection of objects or you can say it is a blueprint of objects defining the common attributes and behavior.\\nclass Car():    #Car is the name of the class'"
      ]
     },
     "execution_count": 9,
     "metadata": {},
     "output_type": "execute_result"
    }
   ],
   "source": [
    "#1. What are the five key concepts of Object-Oriented Programming (OOP)?\n",
    "'''Major OOPS (object-oriented programming) concepts in Python include\n",
    "  1. Class \n",
    "  2. Object\n",
    "  3. Method\n",
    "  4. Inheritance\n",
    "  5.Polymorphism\n",
    "  6. Data Abstraction\n",
    "  7. Encapsulation\n",
    "  A class is a collection of objects or you can say it is a blueprint of objects defining the common attributes and behavior.\n",
    "class Car():    #Car is the name of the class'''"
   ]
  },
  {
   "cell_type": "code",
   "execution_count": 11,
   "id": "60d37b98-88be-478a-a929-9b8ca8f6459d",
   "metadata": {},
   "outputs": [
    {
     "name": "stdout",
     "output_type": "stream",
     "text": [
      "{'make': 'bmw', 'model': 'B001', 'year': 2023}\n",
      "{'make': 'audi', 'model': 'a001', 'year': 2024}\n"
     ]
    }
   ],
   "source": [
    "#2. Write a Python class for a `Car` with attributes for `make`, `model`, and `year`. Include a method to display the car's information.\n",
    "class car():\n",
    "    def __init__(self,make,model,year):\n",
    "        self.make=make\n",
    "        self.model=model\n",
    "        self.year=year\n",
    "car1=car('bmw','B001',2023)\n",
    "car2=car('audi','a001',2024)\n",
    "print(car1.__dict__)\n",
    "print(car2.__dict__)"
   ]
  },
  {
   "cell_type": "code",
   "execution_count": null,
   "id": "4da86ff9-b0d4-4a55-8a4d-efd47793e717",
   "metadata": {},
   "outputs": [],
   "source": [
    "#3. Explain the difference between instance methods and class methods. Provide an example of each.\n",
    "'''Three important types of methods in Python are class methods, static methods, and instance methods.\n",
    "Class Method in Python\n",
    "Class methods are associated with the class rather than instances. They are defined using the @classmethod decorator and take the class itself as the first parameter, usually named cls.\n",
    "Class methods are useful for tasks that involve the class rather than the instance\n",
    "Class syntax \n",
    "class C(object):\n",
    "    @classmethod\n",
    "    def fun(cls, arg1, arg2, ...):\n",
    "Static Method in Python\n",
    "Static methods, as the name suggests, are not bound to either the class or its instances.\n",
    "They are defined using the @staticmethod decorator and do not take a reference to the instance or the class as their first parameter. \n",
    "Static methods are essentially regular functions within the class namespace and are useful for tasks that do not depend on instance-specific or class-specific data.\n",
    "Static method syntax \n",
    "class C(object):\n",
    "    @staticmethod\n",
    "    def fun(arg1, arg2, ...):\n",
    "        ...\n",
    "returns:'''"
   ]
  },
  {
   "cell_type": "code",
   "execution_count": 5,
   "id": "186f5c90-df9c-472b-9a68-cae21a316ef7",
   "metadata": {},
   "outputs": [],
   "source": [
    "#Class method in python \n",
    "class Pizza:\n",
    "    def __init__(self, ingredients):\n",
    "        self.ingredients = ingredients   \n",
    "        def __repr__(self):\n",
    "            return f'Pizza({self.ingredients!r})'\n",
    "    @classmethod\n",
    "    def margherita(cls):\n",
    "        return cls(['mozzarella', 'tomatoes'])\n",
    "    @classmethod\n",
    "    def prosciutto(cls):\n",
    "        return cls(['mozzarella', 'tomatoes', 'ham'])"
   ]
  },
  {
   "cell_type": "code",
   "execution_count": 14,
   "id": "86c50fff-87ff-4fd6-a581-823d82422bff",
   "metadata": {},
   "outputs": [],
   "source": [
    "#Static Method in Python\n",
    "import math\n",
    "class Pizza:\n",
    "    def __init__(self, radius, ingredients):\n",
    "        self.radius = radius\n",
    "        self.ingredients = ingredients\n",
    "    def __repr__(self):\n",
    "        return (f'Pizza({self.radius!r}, '\n",
    "                f'{self.ingredients!r})')\n",
    "    def area(self):\n",
    "        return self.circle_area(self.radius)\n",
    "    @staticmethod\n",
    "    def circle_area(r):\n",
    "        return r ** 2 * math.pi"
   ]
  },
  {
   "cell_type": "code",
   "execution_count": null,
   "id": "8c8c4de0-1d2c-4c6a-b370-ff54761e6f3c",
   "metadata": {},
   "outputs": [],
   "source": [
    "#4. How does Python implement method overloading? Give an example.\n",
    "'''Overloading in Python is not supported in the traditional sense where multiple methods can have the same name but different parameters.\n",
    "However, Python supports operator overloading and allows methods to handle arguments of different types, effectively overloading by type checking inside methods.\n",
    "Python allows operator overloading.'''"
   ]
  },
  {
   "cell_type": "code",
   "execution_count": 18,
   "id": "4bf6e219-4adc-45d4-b822-5bf861d7cd2f",
   "metadata": {},
   "outputs": [
    {
     "name": "stdout",
     "output_type": "stream",
     "text": [
      "(10, 5)\n"
     ]
    }
   ],
   "source": [
    "class Point:\n",
    "    def __init__(self, x=0, y=0):\n",
    "        self.x = x\n",
    "        self.y = y\n",
    "    def __str__(self):\n",
    "        return f\"({self.x}, {self.y})\"\n",
    "    def __add__(self, other):\n",
    "        x = self.x + other.x\n",
    "        y = self.y + other.y\n",
    "        return Point(x, y)\n",
    "p1 = Point(8, 2)\n",
    "p2 = Point(2, 3)\n",
    "print(p1 + p2) "
   ]
  },
  {
   "cell_type": "code",
   "execution_count": 20,
   "id": "c47267b0-6bfd-45e9-9b80-565ce33c86df",
   "metadata": {},
   "outputs": [
    {
     "name": "stdout",
     "output_type": "stream",
     "text": [
      "I am a public attribute\n",
      "I am a public method\n"
     ]
    }
   ],
   "source": [
    "#5. What are the three types of access modifiers in Python? How are they denoted?\n",
    "'''Access modifiers in Python control the visibility and accessibility of class members (attributes and methods) from outside the class.\n",
    "They determine whether other classes and objects can access, modify, or inherit a particular member. Python provides three types of access modifiers:\n",
    "Public Access Modifier\n",
    "Protected Access Modifier\n",
    "Private Access Modifier\n",
    "Access modifiers like public, private, and protected control the visibility of class members in object-oriented programming. \n",
    "Public members are accessible anywhere, private ones only within the defining class, and protected members within the class and its subclasses. \n",
    "Public Access Modifier\n",
    "The public access modifier allows class members to be accessible anywhere in the program.\n",
    "By default, all members in a Python class are public unless explicitly specified otherwise.\n",
    "Syntax '''\n",
    "class MyClass:\n",
    "    def __init__(self):\n",
    "        self.my_public = \"I am a public attribute\"\n",
    "    def my_public_method(self):\n",
    "        print(\"I am a public method\")\n",
    "obj = MyClass()     # Accessing public members\n",
    "print(obj.my_public)\n",
    "obj.my_public_method()"
   ]
  },
  {
   "cell_type": "code",
   "execution_count": 30,
   "id": "1df7c454-1d09-49e4-b131-a9b73f36adb9",
   "metadata": {},
   "outputs": [
    {
     "name": "stdout",
     "output_type": "stream",
     "text": [
      "<__main__.Rectangle object at 0x000001F0050DCC50>\n",
      "32\n"
     ]
    }
   ],
   "source": [
    "class Rectangle:\n",
    "    def __init__(self, length, width):\n",
    "        self.length = length\n",
    "        self.width = width\n",
    "    def calculate_area(self):\n",
    "        return self.length * self.width\n",
    "# Accessing public members\n",
    "rectangle = Rectangle(8, 4)\n",
    "area = rectangle.calculate_area()\n",
    "print(rectangle)\n",
    "print(area)"
   ]
  },
  {
   "cell_type": "code",
   "execution_count": 36,
   "id": "b68cfcba-dd4c-430b-bf9f-e37b60c8c957",
   "metadata": {},
   "outputs": [
    {
     "name": "stdout",
     "output_type": "stream",
     "text": [
      "Buddy meow\n"
     ]
    }
   ],
   "source": [
    "#Protected Access Modifier\n",
    "'''The protected access modifier restricts the access of class members within the class and its subclasses.\n",
    "To denote a member as protected,prefix it conventionally with a single underscore (_).'''\n",
    "class Animal:\n",
    "    def __init__(self, name):\n",
    "        self._name = name\n",
    "    def _make_sound(self):\n",
    "        pass\n",
    "class Cat(Animal):\n",
    "    def _make_sound(self):\n",
    "        print(f\"{self._name} meow\")\n",
    "# Accessing protected members\n",
    "cat = Cat(\"Buddy\")\n",
    "cat._make_sound()"
   ]
  },
  {
   "cell_type": "code",
   "execution_count": 38,
   "id": "3cd5fdd9-cbb0-4842-8a4a-9140ac2ae942",
   "metadata": {},
   "outputs": [],
   "source": [
    "#Private Access Modifier\n",
    "'''The private access modifier restricts the access of class members to within the class only.\n",
    "To denote a member as private, prefix it conventionally with double underscores (__).\n",
    "Syntax:'''\n",
    "class MyClass:\n",
    "    def __init__(self):\n",
    "        self.__my_private_attribute = \"I am a private attribute\"\n",
    "    def __my_private_method(self):\n",
    "        print(\"I am a private method\")\n",
    "# Accessing private members\n",
    "obj = MyClass()"
   ]
  },
  {
   "cell_type": "code",
   "execution_count": null,
   "id": "0c06f6c0-3c88-4235-9f54-9ddc93aa6bc1",
   "metadata": {},
   "outputs": [],
   "source": [
    "#6. Describe the five types of inheritance in Python. Provide a simple example of multiple inheritance.\n",
    "'''Inheritance is defined as the mechanism of inheriting the properties of the base class to the child class.\n",
    "Single Inheritance\n",
    "Multiple Inheritance\n",
    "Multilevel Inheritance\n",
    "Hierarchical Inheritance\n",
    "Hybrid Inheritance'''\n"
   ]
  },
  {
   "cell_type": "code",
   "execution_count": 40,
   "id": "f7604ed6-7a5d-4a1a-8224-4bd070b4084a",
   "metadata": {},
   "outputs": [
    {
     "name": "stdout",
     "output_type": "stream",
     "text": [
      "This function is in parent class.\n",
      "This function is in child class.\n"
     ]
    }
   ],
   "source": [
    "#Single Inheritance\n",
    "'''Single inheritance enables a derived class to inherit properties from a single parent class, thus enabling code reusability and the addition of new features to existing code.'''\n",
    "class Parent:\n",
    "    def func1(self):\n",
    "        print(\"This function is in parent class.\")\n",
    "# Derived class\n",
    "class Child(Parent):\n",
    "    def func2(self):\n",
    "        print(\"This function is in child class.\")\n",
    "# Driver's code\n",
    "object = Child()\n",
    "object.func1()\n",
    "object.func2()"
   ]
  },
  {
   "cell_type": "code",
   "execution_count": 42,
   "id": "1e176951-5ace-4933-8793-85beb2da9bd7",
   "metadata": {},
   "outputs": [
    {
     "name": "stdout",
     "output_type": "stream",
     "text": [
      "Father : RAM\n",
      "Mother : SITA\n"
     ]
    }
   ],
   "source": [
    "#When a class can be derived from more than one base class this type of inheritance is called multiple inheritances. \n",
    "#In multiple inheritances, all the features of the base classes are inherited into the derived class.\n",
    "#Base class 1 \n",
    "class Mother:\n",
    "    mothername = \"\"\n",
    "    def mother(self):\n",
    "        print(self.mothername)\n",
    "# Base class2\n",
    "class Father:\n",
    "    fathername = \"\"\n",
    "    def father(self):\n",
    "        print(self.fathername)\n",
    "# Derived class\n",
    "class Son(Mother, Father):\n",
    "    def parents(self):\n",
    "        print(\"Father :\", self.fathername)\n",
    "        print(\"Mother :\", self.mothername)\n",
    "# Driver's code\n",
    "s1 = Son()\n",
    "s1.fathername = \"RAM\"\n",
    "s1.mothername = \"SITA\"\n",
    "s1.parents()"
   ]
  },
  {
   "cell_type": "code",
   "execution_count": 44,
   "id": "9667029e-f0e2-4664-8075-05340d555fa4",
   "metadata": {},
   "outputs": [
    {
     "name": "stdout",
     "output_type": "stream",
     "text": [
      "Hello from B\n"
     ]
    }
   ],
   "source": [
    "#7. What is the Method Resolution Order (MRO) in Python? How can you retrieve it programmatically?\n",
    "'''The Method Resolution Order (MRO) is the order in which methods are inherited in a class hierarchy when there are multiple inheritance relationships. \n",
    "When a method or attribute is called on an object, Python uses the MRO to determine the sequence of classes to look through to find that method or attribute.\n",
    "The MRO is particularly important in the case of multiple inheritance, where a class might inherit from more than one class, and there is ambiguity about the order in which the base classes should be considered for method lookup.\n",
    "Python uses an algorithm called C3 Linearization (or C3 superclass linearization) to determine the MRO. This algorithm ensures that:\n",
    "(i)The base classes are considered in a consistent order.\n",
    "(ii)The inheritance hierarchy is respected.\n",
    "(iii)If a class inherits from multiple classes, the MRO respects the order in which the classes are inherited.'''\n",
    "class A:\n",
    "    def hello(self):\n",
    "        print(\"Hello from A\")\n",
    "class B(A):\n",
    "    def hello(self):\n",
    "        print(\"Hello from B\")\n",
    "class C(A):\n",
    "    def hello(self):\n",
    "        print(\"Hello from C\")\n",
    "class D(B, C):\n",
    "    pass\n",
    "d = D()\n",
    "d.hello\n",
    "#When d.hello() is called, Python will first look for hello() in D (which it doesn’t find), then in B, and will call hello() from B, because B is the first class in the MRO that defines the method."
   ]
  },
  {
   "cell_type": "code",
   "execution_count": 60,
   "id": "b3177f59-6c1b-4f8b-aaf0-1b45262c6441",
   "metadata": {},
   "outputs": [
    {
     "name": "stdout",
     "output_type": "stream",
     "text": [
      "Area of Circle: 78.53981633974483\n",
      "Area of Rectangle: 24\n"
     ]
    }
   ],
   "source": [
    "#8. Create an abstract base class `Shape` with an abstract method `area()`. Then create two subclasses `Circle` and `Rectangle` that implement the `area()` method.\n",
    "from abc import ABC, abstractmethod\n",
    "import math\n",
    "# Abstract base class Shape\n",
    "class Shape(ABC):\n",
    "    @abstractmethod\n",
    "    def area(self):\n",
    "        pass\n",
    "# Subclass Circle\n",
    "class Circle(Shape):\n",
    "    def __init__(self, radius):\n",
    "        self.radius = radius\n",
    "    def area(self):\n",
    "        return math.pi * self.radius ** 2\n",
    "# Subclass Rectangle\n",
    "class Rectangle(Shape):\n",
    "    def __init__(self, width, height):\n",
    "        self.width = width\n",
    "        self.height = height\n",
    "    def area(self):\n",
    "        return self.width * self.height\n",
    "# Example usage\n",
    "circle = Circle(5)\n",
    "print(f\"Area of Circle: {circle.area()}\")\n",
    "rectangle = Rectangle(4, 6)\n",
    "print(f\"Area of Rectangle: {rectangle.area()}\")"
   ]
  },
  {
   "cell_type": "code",
   "execution_count": 62,
   "id": "8fb781b7-b9ee-42f1-ba8f-ca2df8efa67f",
   "metadata": {},
   "outputs": [
    {
     "name": "stdout",
     "output_type": "stream",
     "text": [
      "Area of Circle: 78.53981633974483\n",
      "Area of Rectangle: 24\n",
      "Area of Square: 16\n"
     ]
    }
   ],
   "source": [
    "#9. Demonstrate polymorphism by creating a function that can work with different shape objects to calculate and print their areas.\n",
    "'''Polymorphism in Python allows objects of different classes to be treated as objects of a common superclass, particularly when they share the same method or interface.'''\n",
    "import math\n",
    "from abc import ABC, abstractmethod\n",
    "# Abstract base class Shape\n",
    "class Shape(ABC):\n",
    "    @abstractmethod\n",
    "    def area(self):\n",
    "        pass\n",
    "# Subclass Circle\n",
    "class Circle(Shape):\n",
    "    def __init__(self, radius):\n",
    "        self.radius = radius\n",
    "    def area(self):\n",
    "        return math.pi * self.radius ** 2\n",
    "# Subclass Rectangle\n",
    "class Rectangle(Shape):\n",
    "    def __init__(self, width, height):\n",
    "        self.width = width\n",
    "        self.height = height\n",
    "    def area(self):\n",
    "        return self.width * self.height\n",
    "# Subclass Square (inherits from Rectangle)\n",
    "class Square(Rectangle):\n",
    "    def __init__(self, side):\n",
    "        super().__init__(side, side)\n",
    "# Polymorphic function to calculate and print area\n",
    "def calculate_area(shape: Shape):\n",
    "    print(f\"Area of {shape.__class__.__name__}: {shape.area()}\")\n",
    "# Example usage\n",
    "circle = Circle(5)\n",
    "rectangle = Rectangle(4, 6)\n",
    "square = Square(4)\n",
    "# Demonstrating polymorphism\n",
    "calculate_area(circle)      # Works with Circle object\n",
    "calculate_area(rectangle)   # Works with Rectangle object\n",
    "calculate_area(square)      # Works with Square object"
   ]
  },
  {
   "cell_type": "code",
   "execution_count": 64,
   "id": "d73515e5-c169-4354-a9b4-ef8293210284",
   "metadata": {},
   "outputs": [
    {
     "name": "stdout",
     "output_type": "stream",
     "text": [
      "Deposited $500. New balance is $1500.\n",
      "Withdrew $200. New balance is $1300.\n",
      "Balance for account 12345678: $1300\n",
      "Account Number: 12345678\n"
     ]
    }
   ],
   "source": [
    "#10. Implement encapsulation in a `BankAccount` class with private attributes for `balance` and `account_number`. Include methods for deposit, withdrawal, and balance inquiry.\n",
    "class BankAccount:\n",
    "    def __init__(self, account_number, initial_balance=0):\n",
    "        # Private attributes\n",
    "        self.__account_number = account_number\n",
    "        self.__balance = initial_balance\n",
    "    # Method to deposit money\n",
    "    def deposit(self, amount):\n",
    "        if amount > 0:\n",
    "            self.__balance += amount\n",
    "            print(f\"Deposited ${amount}. New balance is ${self.__balance}.\")\n",
    "        else:\n",
    "            print(\"Deposit amount must be positive.\")\n",
    "    # Method to withdraw money\n",
    "    def withdraw(self, amount):\n",
    "        if amount > 0:\n",
    "            if amount <= self.__balance:\n",
    "                self.__balance -= amount\n",
    "                print(f\"Withdrew ${amount}. New balance is ${self.__balance}.\")\n",
    "            else:\n",
    "                print(\"Insufficient funds for withdrawal.\")\n",
    "        else:\n",
    "            print(\"Withdrawal amount must be positive.\")\n",
    "    # Method to inquire balance\n",
    "    def get_balance(self):\n",
    "        print(f\"Balance for account {self.__account_number}: ${self.__balance}\")\n",
    "        return self.__balance\n",
    "    # Getter for account number (if needed)\n",
    "    def get_account_number(self):\n",
    "        return self.__account_number\n",
    "# Example usage\n",
    "account = BankAccount(account_number=\"12345678\", initial_balance=1000)\n",
    "account.deposit(500)          # Depositing money\n",
    "account.withdraw(200)         # Withdrawing money\n",
    "account.get_balance()         # Inquiring balance\n",
    "# Trying to access the private attribute directly (will raise an error)\n",
    "# print(account.__balance)    # This will raise an AttributeError\n",
    "# Accessing account number\n",
    "print(f\"Account Number: {account.get_account_number()}\")"
   ]
  },
  {
   "cell_type": "code",
   "execution_count": null,
   "id": "bac0442e-2388-4583-95fa-2581d4e39117",
   "metadata": {},
   "outputs": [],
   "source": []
  }
 ],
 "metadata": {
  "kernelspec": {
   "display_name": "Python 3 (ipykernel)",
   "language": "python",
   "name": "python3"
  },
  "language_info": {
   "codemirror_mode": {
    "name": "ipython",
    "version": 3
   },
   "file_extension": ".py",
   "mimetype": "text/x-python",
   "name": "python",
   "nbconvert_exporter": "python",
   "pygments_lexer": "ipython3",
   "version": "3.12.4"
  }
 },
 "nbformat": 4,
 "nbformat_minor": 5
}
